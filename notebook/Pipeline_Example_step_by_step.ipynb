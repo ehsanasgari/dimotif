{
 "cells": [
  {
   "cell_type": "code",
   "execution_count": 1,
   "metadata": {},
   "outputs": [],
   "source": [
    "import sys\n",
    "sys.path.append('../')\n",
    "from utility.file_utility import FileUtility"
   ]
  },
  {
   "cell_type": "markdown",
   "metadata": {},
   "source": [
    "# Running DiMotif step-by-step"
   ]
  },
  {
   "cell_type": "markdown",
   "metadata": {},
   "source": [
    "<img src=\"../DiMotif.pdf\">"
   ]
  },
  {
   "cell_type": "markdown",
   "metadata": {},
   "source": [
    "Files containing positive and negative sequences (a sequence per line)"
   ]
  },
  {
   "cell_type": "code",
   "execution_count": 2,
   "metadata": {},
   "outputs": [],
   "source": [
    "# training file\n",
    "pos_train_file='../datasets/biofilm/pos_train.txt'\n",
    "neg_train_file='../datasets/biofilm/neg_train.txt'\n",
    "\n",
    "\n",
    "# testing file\n",
    "pos_test_file='../datasets/biofilm/pos_test.txt'\n",
    "neg_test_file='../datasets/biofilm/neg_test.txt'"
   ]
  },
  {
   "cell_type": "code",
   "execution_count": 4,
   "metadata": {},
   "outputs": [],
   "source": [
    "# load positive and negative sequences\n",
    "pos_seqs=FileUtility.load_list(pos_train_file)\n",
    "neg_seqs=FileUtility.load_list(neg_train_file)\n",
    "\n",
    "# prepare labels and sequences\n",
    "seqs=[seq.lower() for seq in pos_seqs+neg_seqs]\n",
    "labels=[1]*len(pos_seqs)+[0]*len(neg_seqs)"
   ]
  },
  {
   "cell_type": "markdown",
   "metadata": {},
   "source": [
    "## (i) Sequence segmentation"
   ]
  },
  {
   "cell_type": "markdown",
   "metadata": {},
   "source": [
    "The segmentation can be applied based on the segmentation learned from Swiss-Prot database (general-purpose) or from the positive set (domain-specific)"
   ]
  },
  {
   "cell_type": "markdown",
   "metadata": {},
   "source": [
    "### Swiss-Prot Segmentation"
   ]
  },
  {
   "cell_type": "markdown",
   "metadata": {},
   "source": [
    "We need to load the alpha distribution for segmentation sampling from the file."
   ]
  },
  {
   "cell_type": "code",
   "execution_count": 9,
   "metadata": {},
   "outputs": [
    {
     "name": "stderr",
     "output_type": "stream",
     "text": [
      "100%|██████████| 1000/1000 [00:00<00:00, 11231.20it/s]\n",
      "/mounts/Users/student/asgari/.local/lib/python3.6/site-packages/scipy/stats/_distn_infrastructure.py:2306: RuntimeWarning: invalid value encountered in double_scalars\n",
      "  Lhat = muhat - Shat*mu\n"
     ]
    }
   ],
   "source": [
    "import scipy.stats as st\n",
    "import numpy as np\n",
    "import tqdm\n",
    "from utility.math_utility import normalize_mat\n",
    "\n",
    "\n",
    "swiss_size_change=FileUtility.load_obj('data_config/swiss_1000_samples.pickle')\n",
    "all_samples=[]\n",
    "for i in tqdm.tqdm(range(0,1000)):\n",
    "    sample=[]\n",
    "    for vocab in np.arange(10000,1000000,10000):\n",
    "        sample.append(swiss_size_change[vocab][i])\n",
    "    all_samples.append(-np.diff(sample))\n",
    "\n",
    "sample_mat=np.mean(normalize_mat(all_samples),axis=0)\n",
    "sample_mat_std=np.std(normalize_mat(all_samples),axis=0)\n",
    "alpha_param = st.alpha.fit(sample_mat)"
   ]
  },
  {
   "cell_type": "markdown",
   "metadata": {},
   "source": [
    "Then we sample from the alpha distribution:"
   ]
  },
  {
   "cell_type": "code",
   "execution_count": 14,
   "metadata": {},
   "outputs": [],
   "source": [
    "# number of segmentation to be used\n",
    "\n",
    "segmentation_schemes=10\n",
    "r = st.alpha.rvs(alpha_param[0], size=segmentation_schemes)\n",
    "vocab_sizes=np.array(np.round(10000+(r*10000)),dtype=np.int32).tolist()\n",
    "vocab_sizes.sort()"
   ]
  },
  {
   "cell_type": "code",
   "execution_count": 15,
   "metadata": {},
   "outputs": [
    {
     "data": {
      "text/plain": [
       "[14136, 14948, 15082, 15325, 15521, 17459, 19156, 21441, 21482, 47875]"
      ]
     },
     "execution_count": 15,
     "metadata": {},
     "output_type": "execute_result"
    }
   ],
   "source": [
    "# vocabulary sizes seen from Swiss-Prot\n",
    "vocab_sizes"
   ]
  },
  {
   "cell_type": "markdown",
   "metadata": {},
   "source": [
    "In this step we perform segmentation of the sequences based on the steps we have trained already on Swiss-Prot"
   ]
  },
  {
   "cell_type": "code",
   "execution_count": 17,
   "metadata": {},
   "outputs": [
    {
     "name": "stderr",
     "output_type": "stream",
     "text": [
      "10it [19:54, 119.45s/it]\n"
     ]
    }
   ],
   "source": [
    "from make_representations.cpe_apply import CPE\n",
    "\n",
    "segmented_seqs=[]\n",
    "for i, vocab in tqdm.tqdm(enumerate(vocab_sizes)):\n",
    "    f=open('data_config/swissprot_ppe','r')\n",
    "    CPE_Applier=CPE(f,separator='', merge_size=vocab)\n",
    "    for idx, seq in enumerate(seqs):\n",
    "        if i ==0:\n",
    "            segmented_seqs.append([CPE_Applier.segment(seq)])\n",
    "        else:\n",
    "            segmented_seqs[idx]+=[CPE_Applier.segment(seq)]\n",
    "extended_sequences=[' '.join(l) for l in segmented_seqs]\n",
    "possible_segmentations=['@@@'.join(l) for l in segmented_seqs]"
   ]
  },
  {
   "cell_type": "markdown",
   "metadata": {},
   "source": [
    "## An example of sequence probablistic segmentation"
   ]
  },
  {
   "cell_type": "code",
   "execution_count": 38,
   "metadata": {},
   "outputs": [
    {
     "data": {
      "text/plain": [
       "'mssklvlvlncgssslkfaiidavngeeylsglaecfhlpearikwkmdgnkqeaalgagaahsealnfivntilaqkpelsaqltaighrivhggekytssvvidesviqgikdaasfaplhnpahligieealksfpqlkdknvavfdtafhqtmpeesylyalpynlykehgirrygahgtshfyvtqeaakmlnkpveelniitchlgnggsvsairngkcvdtsmgltpleglvmgtrsgdidpaiifhlhdtlgmsvdainklltkesgllgltevtsdcryvednyatkedakramdvychrlakyigaytalmdgrldavvftggigenaamvrelslgklgvlgfevdhernlaarfgksgfinkegtrpavviptneelviaqdasrlta'"
      ]
     },
     "execution_count": 38,
     "metadata": {},
     "output_type": "execute_result"
    }
   ],
   "source": [
    "#Sample segmentations: \n",
    "seqs[10]   "
   ]
  },
  {
   "cell_type": "code",
   "execution_count": 40,
   "metadata": {},
   "outputs": [
    {
     "name": "stdout",
     "output_type": "stream",
     "text": [
      "mss klvl vln cg sssl kf ai idav ngee yls glae cf hlpe arik wkm dg nk qe aalg agaa hse al nf ivn til aq kp els aql taig hri vh gge ky tss vvid es vi qg ik daa sf apl hnp ahl ig iee alks fp qlkd kn vav fd taf hqt mp ees yl yal py nl yke hg irr yg ahg ts hfy vt qeaa kml nkp veel niit c hlg n ggs vsai rng kc vdts mgl tple gl vmg tr sgd idp ai if hl hd tlg ms vdai nkll tke sg llgl tevt sd cry ved ny at ked ak ram dvy ch rlak yig ay tal mdg rld av vf tgg igen aa mvr el slg klg vlg fe vd he rnl aar fg ksg fin keg tr pav vi pt neel vi aqd asrl t a\n",
      "-----------------------\n",
      "mss klvl vln cg sssl kf ai idav ngee yls glae cf hlpe arik wkm dg nk qe aalg agaa hse al nf ivn til aq kp els aql taig hri vh gge ky tss vvid es vi qg ik daa sf apl hnp ahl ig iee alks fp qlkd kn vav fd taf hqt mp ees yl yal py nl yke hg irr yg ahg ts hfy vt qeaa kml nkp veel niit c hlg nggs vsai rng kc vdts mgl tple gl vmg tr sgd idp ai if hl hd tlg ms vdai nkll tke sg llgl tevt sd cry ved ny at ked ak ram dvy ch rlak yig ay tal mdg rld avvf tgg igen aa mvr el slg klg vlg fe vd he rnl aar fg ksg fin keg tr pav vi pt neel vi aqd asrl t a\n",
      "-----------------------\n",
      "mss klvl vln cg sssl kf ai idav ngee yls glae cf hlpe arik wkm dg nk qe aalg agaa hse al nf ivn til aq kp els aql taig hri vh gge ky tss vvid es vi qg ik daa sf apl hnp ahl ig iee alks fp qlkd kn vav fd taf hqt mp ees yl yal py nl yke hg irr yg ahg ts hfy vt qeaa kml nkp veel niit c hlg nggs vsai rng kc vdts mgl tple gl vmg tr sgd idp ai if hl hd tlg ms vdai nkll tke sg llgl tevt sd cry ved ny at ked ak ram dvy ch rlak yig ay tal mdg rld avvf tgg igen aa mvr el slg klg vlg fe vd he rnl aar fg ksg fin keg tr pav vi pt neel vi aqd asrl t a\n",
      "-----------------------\n",
      "mss klvl vln cg sssl kf ai idav ngee yls glae cf hlpe arik wkm dg nk qe aalg agaa hse al nf ivn til aq kp els aql taig hri vh gge ky tss vvid es vi qg ik daa sf apl hnp ahl ig iee alks fp qlkd kn vav fd taf hqt mp ees yl yal py nl yke hg irr yg ahg ts hfy vt qeaa kml nkp veel niit c hlg nggs vsai rng kc vdts mgl tple gl vmg tr sgd idp ai if hl hd tlg ms vdai nkll tke sg llgl tevt sd cry ved ny at ked ak ram dvy ch rlak yig ay tal mdg rld avvf tgg igen aa mvr el slg klg vlg fe vd he rnl aar fg ksg fin keg tr pav vi pt neel vi aqd asrl t a\n",
      "-----------------------\n",
      "mss klvl vln cg sssl kf ai idav ngee yls glae cf hlpe arik wkm dg nk qe aalg agaa hse al nf ivn til aq kp els aql taig hri vh gge ky tss vvid es vi qg ik daa sf apl hnp ahl ig iee alks fp qlkd kn vav fd taf hqt mp ees yl yal py nl yke hg irr yg ahg ts hfy vt qeaa kml nkp veel niit c hlg nggs vsai rng kc vdts mgl tple gl vmg tr sgd idp ai if hl hd tlg ms vdai nkll tke sg llgl tevt sd cry ved ny at ked ak ram dvy ch rlak yig ay tal mdg rld avvf tgg igen aa mvr el slg klg vlg fe vd he rnl aar fg ksg fin keg tr pav vi pt neel vi aqd asrl t a\n",
      "-----------------------\n",
      "mss klvl vln cg sssl kf ai idav ngee yls glae cf hlpe arik wkm dg nk qe aalg agaa hse al nf ivn til aq kp els aql taig hri vh gge ky tss vvid es vi qg ik daa sf apl hnp ahl ig iee alks fp qlkd kn vav fd taf hqt mp ees yl yal py nl yke hg irr yg ahg ts hfy vt qeaa kml nkp veel niit c hlg nggs vsai rng kc vdts mgl tple gl vmg tr sgd idp aiif hl hd tlg ms vdai nkll tke sg llgl tevt sd cry ved ny at ked ak ram dvy ch rlak yig ay tal mdg rld avvf tgg igen aa mvr el slg klg vlg fe vd he rnl aar fg ksg fin keg tr pav vi pt neel vi aqd asrl t a\n",
      "-----------------------\n",
      "mss klvl vln cg sssl kf ai idav ngee yls glae cf hlpe arik wkm dg nk qe aalg agaa hse al nf ivn til aq kp els aql taig hri vh gge ky tss vvid es vi qg ik daa sf apl hnp ahl ig iee alks fp qlkd kn vav fd taf hqt mp ees yl yal py nl yke hg irr yg ahg ts hfy vt qeaa kml nkp veel niit c hlg nggs vsai rng kc vdts mgl tple gl vmg tr sgd idp aiif hl hd tlg ms vdai nkll tke sg llgl tevt sd cry ved ny at ked ak ram dvy ch rlak yig ay tal mdg rld avvf tgg igen aa mvr el slg klg vlg fe vd he rnl aar fg ksg fin keg tr pav vi pt neel vi aqd asrl t a\n",
      "-----------------------\n",
      "mss klvl vln cg sssl kf ai idav ngee yls glae cf hlpe arik wkm dg nk qe aalg agaa hse al nf ivn til aq kp els aql taig hri vh gge ky tss vvid es vi qgik daa sf apl hnp ahl ig iee alks fp qlkd kn vav fd taf hqt mp ees yl yal py nl yke hg irr yg ahg ts hfy vt qeaa kml nkp veel niit c hlg nggs vsai rng kc vdts mgl tple gl vmg tr sgd idp aiif hl hd tlg ms vdai nkll tke sg llgl tevt sd cry ved ny at ked ak ram dvy ch rlak yig ay tal mdg rld avvf tgg igen aa mvr el slg klg vlg fe vd he rnl aar fg ksg fin keg tr pav vi pt neel vi aqd asrl t a\n",
      "-----------------------\n",
      "mss klvl vln cg sssl kf ai idav ngee yls glae cf hlpe arik wkm dg nk qe aalg agaa hse al nf ivn til aq kp els aql taig hri vh gge ky tss vvid es vi qgik daa sf apl hnp ahl ig iee alks fp qlkd kn vav fd taf hqt mp ees yl yal py nl yke hg irr yg ahg ts hfy vt qeaa kml nkp veel niit c hlg nggs vsai rng kc vdts mgl tple gl vmg tr sgd idp aiif hl hd tlg ms vdai nkll tke sg llgl tevt sd cry ved ny at ked ak ram dvy ch rlak yig ay tal mdg rld avvf tgg igen aa mvr el slg klg vlg fe vd he rnl aar fg ksg fin keg tr pav vi pt neel vi aqd asrl t a\n",
      "-----------------------\n",
      "mss klvl vln cg sssl kfai idav ngee yls glae cf hlpe arik wkm dg nkqe aalg agaa hse alnf ivn til aqkp els aql taig hri vh gge ky tss vvid es vi qgik daa sf aplhnp ahl ig iee alks fp qlkd kn vav fdtaf hqt mp ees yl yal py nl yke hg irryg ahg ts hfy vt qeaa kml nkp veel niit chlg nggs vsai rng kc vdts mgl tple gl vmg tr sgd idp aiif hl hd tlg ms vdai nkll tke sg llgl tevt sd cry ved ny at ked ak ram dvy ch rlak yig ay tal mdg rld avvf tgg igen aa mvr el slg klg vlg fevd he rnl aar fg ksg fin keg tr pav vipt neel vi aqd asrl t a\n",
      "-----------------------\n"
     ]
    }
   ],
   "source": [
    "#View its possible segmentation\n",
    "\n",
    "for x in possible_segmentations[10].split('@@@'):\n",
    "    print(x)\n",
    "    print('-----------------------')"
   ]
  },
  {
   "cell_type": "markdown",
   "metadata": {},
   "source": [
    "## (ii) Discriminative Motif discovery"
   ]
  },
  {
   "cell_type": "markdown",
   "metadata": {},
   "source": [
    "We set the output directory to be 'biofilm_test_general_purpose'"
   ]
  },
  {
   "cell_type": "code",
   "execution_count": 42,
   "metadata": {},
   "outputs": [],
   "source": [
    "# to ensure the output path exists\n",
    "output_path='biofilm_test_general_purpose/'\n",
    "FileUtility.ensure_dir(output_path)"
   ]
  },
  {
   "cell_type": "markdown",
   "metadata": {},
   "source": [
    "Using Chi-square test we find the most significant motifs related to the positive class"
   ]
  },
  {
   "cell_type": "code",
   "execution_count": 45,
   "metadata": {},
   "outputs": [],
   "source": [
    "from chi2analysis.chi2analysis import Chi2Analysis\n",
    "from sklearn.feature_extraction.text import TfidfVectorizer\n",
    "\n",
    "# top 100 motifs\n",
    "topn=100\n",
    "\n",
    "cpe_vectorizer = TfidfVectorizer(use_idf=False, analyzer='word',\n",
    "                                              norm=None, stop_words=[], lowercase=True, binary=False, tokenizer=str.split)\n",
    "\n",
    "tf_vec=cpe_vectorizer.fit_transform(extended_sequences)\n",
    "vocab=cpe_vectorizer.get_feature_names()\n",
    "CH=Chi2Analysis(tf_vec,labels,vocab)\n",
    "vocab_binary=[(x[0],x[2]) for x in CH.extract_features_fdr(output_path+'/motifs.txt', N=topn, alpha=5e-2, direction=True, allow_subseq=True, binarization=True, remove_redundant_markers=False) if x[1]>0]\n"
   ]
  },
  {
   "cell_type": "code",
   "execution_count": 51,
   "metadata": {},
   "outputs": [
    {
     "name": "stdout",
     "output_type": "stream",
     "text": [
      "motif \t p-value\n",
      "=====================\n",
      "mgl \t 3.521930682092904e-31\n",
      "vrar \t 9.902697564084905e-29\n",
      "nae \t 5.566922856242352e-19\n",
      "madl \t 5.3042577150669156e-17\n",
      "mgls \t 1.2736500765819503e-16\n",
      "glp \t 6.698970197443071e-16\n",
      "flrq \t 7.405817981330542e-16\n",
      "dav \t 3.216655474412945e-14\n",
      "tvs \t 1.00523510020983e-13\n",
      "tiaa \t 1.061556354502781e-12\n",
      "cgsp \t 1.2234724458461001e-12\n",
      "rdlkpe \t 1.2234724458461001e-12\n",
      "yvml \t 1.2234724458461001e-12\n",
      "klyd \t 2.1663742279409084e-12\n",
      "ipfe \t 4.135754998644769e-12\n",
      "pevd \t 5.745774966959567e-12\n",
      "ylvd \t 1.2044704028248266e-11\n",
      "mat \t 1.6587840673297503e-11\n",
      "fgls \t 1.819041449131975e-11\n",
      "tlaa \t 1.9967033878863413e-11\n",
      "kivh \t 3.18900359413313e-11\n",
      "plvp \t 3.7852415451479775e-11\n",
      "elav \t 7.746816465286166e-11\n",
      "aape \t 1.3687966275799393e-10\n",
      "kiin \t 1.3687966275799393e-10\n",
      "nifl \t 1.7456453075072336e-10\n",
      "qai \t 2.5017076071493365e-10\n",
      "glpf \t 3.144739037298401e-10\n",
      "mtdg \t 5.57665361597382e-10\n",
      "mtt \t 8.715723706593248e-10\n",
      "nrit \t 2.1046344671883555e-09\n",
      "reis \t 3.4591258997340897e-09\n",
      "flhl \t 5.185679135769597e-09\n",
      "kvkl \t 5.5328866537531294e-09\n",
      "mltr \t 6.658192044464786e-09\n",
      "vrvd \t 6.658192044464786e-09\n",
      "knlg \t 7.390413269350749e-09\n",
      "traa \t 7.390413269350749e-09\n",
      "vqar \t 9.82858530969664e-09\n",
      "hii \t 1.0908192675607505e-08\n",
      "trid \t 1.1851301777316516e-08\n",
      "viks \t 1.2663350113823839e-08\n",
      "plel \t 2.110610230298723e-08\n",
      "rlll \t 2.3134430010400895e-08\n",
      "ayp \t 3.5055214755084994e-08\n",
      "ngvy \t 4.094201847220714e-08\n",
      "nett \t 5.523405034511874e-08\n",
      "mlvv \t 6.705864043317992e-08\n",
      "irvr \t 7.247010138120385e-08\n",
      "nlll \t 9.272712943476698e-08\n",
      "visg \t 9.272712943476698e-08\n",
      "arie \t 9.829156076596059e-08\n",
      "daf \t 1.090736859369173e-07\n",
      "arag \t 1.283007502969553e-07\n",
      "kvp \t 1.449154537492423e-07\n",
      "atrl \t 1.7500454840894759e-07\n",
      "avin \t 1.7500454840894759e-07\n",
      "rlp \t 3.0067398808155214e-07\n",
      "fltr \t 3.117605826954869e-07\n",
      "maa \t 4.814890317937045e-07\n",
      "egs \t 5.86403353449431e-07\n",
      "fkf \t 6.400842231273022e-07\n",
      "a \t 6.501659002373425e-07\n",
      "nadd \t 9.911724011190825e-07\n",
      "aitl \t 1.2218294463160367e-06\n",
      "vkvp \t 1.2218294463160367e-06\n",
      "airl \t 1.2628183083198586e-06\n",
      "fel \t 1.7651953141150986e-06\n",
      "ainl \t 1.7690658654262487e-06\n",
      "fdde \t 1.7690658654262487e-06\n",
      "ngip \t 2.820794047695348e-06\n",
      "ypl \t 2.8875352622470733e-06\n",
      "addl \t 3.1597701015902605e-06\n",
      "ttai \t 3.966439633257451e-06\n",
      "avrl \t 5.64818681727667e-06\n",
      "add \t 6.254354348671638e-06\n",
      "ggfp \t 7.051146621116969e-06\n",
      "vqtr \t 7.051146621116969e-06\n",
      "vws \t 1.2608358155537825e-05\n",
      "avey \t 1.267892888069089e-05\n",
      "mskt \t 1.267892888069089e-05\n",
      "fepl \t 1.3918839941720097e-05\n",
      "fqq \t 1.6187421234564417e-05\n",
      "alpf \t 1.8095074340315932e-05\n",
      "avlaa \t 1.8095074340315932e-05\n",
      "vddl \t 2.117587897746136e-05\n",
      "hfg \t 2.2684657475788316e-05\n",
      "amgl \t 2.283188990744807e-05\n",
      "arve \t 2.283188990744807e-05\n",
      "vrip \t 2.283188990744807e-05\n",
      "dear \t 2.510398599960176e-05\n",
      "arrf \t 3.243597639780692e-05\n",
      "nif \t 3.74462074183886e-05\n",
      "kpe \t 3.917069437911833e-05\n",
      "dai \t 4.1998147899130666e-05\n",
      "vdal \t 4.344440305109988e-05\n",
      "tam \t 5.242454688946704e-05\n",
      "amke \t 5.820694825648046e-05\n",
      "fltq \t 5.820694825648046e-05\n",
      "vqrg \t 5.820694825648046e-05\n"
     ]
    }
   ],
   "source": [
    "print ('motif','\\t', 'p-value')\n",
    "print ('=====================')\n",
    "for motif, pval in vocab_binary:\n",
    "    print (motif,'\\t', pval)"
   ]
  },
  {
   "cell_type": "markdown",
   "metadata": {},
   "source": [
    "## (iii)  Motif visualizations"
   ]
  },
  {
   "cell_type": "markdown",
   "metadata": {},
   "source": [
    "### Co-occurrences of motifs"
   ]
  },
  {
   "cell_type": "markdown",
   "metadata": {},
   "source": [
    "Then we look at the co-occurrences pattern of the motifs on the positve set"
   ]
  },
  {
   "cell_type": "code",
   "execution_count": 55,
   "metadata": {},
   "outputs": [],
   "source": [
    "from utility.math_utility import get_sym_kl_rows\n",
    "from clustering.hierarchical import HierarchicalClutering\n",
    "\n",
    "idxs=[vocab.index(v[0]) for v in vocab_binary]\n",
    "pos_matrix=tf_vec.toarray()[0:len(pos_seqs),idxs]\n",
    "\n",
    "# it saves the co-occurance matrix in the output directory and sym_KL.pickle\n",
    "DIST=get_sym_kl_rows(pos_matrix.T)\n",
    "FileUtility.save_obj(output_path+'/sym_KL', DIST)"
   ]
  },
  {
   "cell_type": "code",
   "execution_count": 57,
   "metadata": {},
   "outputs": [
    {
     "name": "stderr",
     "output_type": "stream",
     "text": [
      "/mounts/Users/student/asgari/.local/lib/python3.6/site-packages/scipy/cluster/hierarchy.py:298: ClusterWarning: scipy.cluster: The symmetric non-negative hollow observation matrix looks suspiciously like an uncondensed distance matrix\n",
      "  return linkage(y, method='complete', metric='euclidean')\n"
     ]
    },
    {
     "data": {
      "image/png": "[encoded data removed]",
      "text/plain": [
       "<matplotlib.figure.Figure at 0x7fa48dd57588>"
      ]
     },
     "metadata": {},
     "output_type": "display_data"
    }
   ],
   "source": [
    "HC=HierarchicalClutering(DIST,[x[0] for x in vocab_binary])\n",
    "motifs=vocab_binary\n",
    "tree=HC.nwk"
   ]
  },
  {
   "cell_type": "code",
   "execution_count": 59,
   "metadata": {},
   "outputs": [
    {
     "data": {
      "text/plain": [
       "'((((((((((alpf:95.42,addl:95.42):20.06,(fltr:77.15,vrvd:77.15):38.32):4.66,(dai:95.95,amgl:95.95):24.19):2.55,(((((fltq:99.90,airl:99.90):7.23,glpf:107.13):2.15,vdal:109.28):7.95,(tlaa:98.01,flrq:98.01):19.23):1.61,(((nif:88.13,ipfe:88.13):16.11,mtt:104.24):8.94,((ttai:72.80,ngip:72.80):20.87,mat:93.67):19.50):5.68):3.84):9.33,(vddl:76.00,vkvp:76.00):56.01):6.95,((((kvp:49.60,plel:49.60):36.85,traa:86.45):7.68,mgls:94.13):10.26,avrl:104.39):34.58):5.01,(((avin:41.05,trid:41.05):31.67,qai:72.72):14.79,fel:87.51):56.46):4.50,((((ainl:102.59,arie:102.59):7.05,(tam:90.02,mskt:90.02):19.62):6.00,((arve:81.15,aitl:81.15):11.38,(vrip:77.88,glp:77.88):14.65):23.11):13.55,((ggfp:56.80,nifl:56.80):49.18,a:105.98):23.21):19.28):52.55,(((((arag:86.46,nett:86.46):28.50,vqar:114.96):12.49,(tiaa:102.94,nae:102.94):24.51):8.55,(((((daf:54.51,plvp:54.51):22.79,mltr:77.29):19.39,amke:96.68):3.95,vrar:100.63):12.12,((add:52.01,nadd:52.01):26.00,madl:78.00):34.75):23.26):5.94,((((avlaa:73.78,fepl:73.78):9.71,rlll:83.49):5.22,((vqtr:57.71,dav:57.71):21.57,maa:79.28):9.43):24.55,(tvs:62.74,mgl:62.74):50.52):28.68):59.08):245.02,((((((kpe:38.21,knlg:38.21):21.17,irvr:59.37):19.28,((ngvy:33.60,nrit:33.60):13.45,mlvv:47.05):31.60):16.98,((((((ypl:17.15,egs:17.15):4.06,hii:21.21):2.75,fqq:23.96):2.10,((hfg:17.60,viks:17.60):2.91,ayp:20.51):5.56):6.43,(flhl:17.92,mtdg:17.92):14.57):10.38,((((elav:14.27,ylvd:14.27):4.00,((kiin:8.45,aape:8.45):4.05,reis:12.50):5.76):6.04,(((fkf:11.79,klyd:11.79):0.69,((visg:4.99,nlll:4.99):2.63,fgls:7.61):4.86):4.79,pevd:17.27):7.04):6.58,(((rdlkpe:0.00,cgsp:0.00):0.00,yvml:0.00):19.71,kivh:19.71):11.19):11.98):52.75):52.91,(((vws:65.50,kvkl:65.50):7.56,(arrf:62.56,avey:62.56):10.50):21.68,rlp:94.73):53.81):38.12,(((fdde:35.57,atrl:35.57):11.23,vqrg:46.80):46.40,dear:93.20):93.46):259.38);'"
      ]
     },
     "execution_count": 59,
     "metadata": {},
     "output_type": "execute_result"
    }
   ],
   "source": [
    "# tree of motifs\n",
    "HC.nwk"
   ]
  },
  {
   "cell_type": "markdown",
   "metadata": {},
   "source": [
    "### Visualization of co-occurence pattern"
   ]
  },
  {
   "cell_type": "code",
   "execution_count": 64,
   "metadata": {},
   "outputs": [],
   "source": [
    "%matplotlib inline\n",
    "import matplotlib\n",
    "import matplotlib.pyplot as plt\n",
    "import seaborn as sns; sns.set()\n",
    "\n",
    "def create_mat_plot(mat, axis_names, title, filename, xlab, ylab, cmap='Blues', filetype='pdf', rx=0, ry=0, font_s=10, annot=True):\n",
    "    '''\n",
    "    :param mat: divergence matrix\n",
    "    :param axis_names: axis_names\n",
    "    :param title\n",
    "    :param filename: where to be saved\n",
    "    :return:\n",
    "    '''\n",
    "    plt.rc('text', usetex=True)\n",
    "    if len(axis_names)==0:\n",
    "        ax = sns.heatmap(mat,annot=annot, cmap=cmap,fmt=\"d\")\n",
    "    else:\n",
    "        # removed fmt=\"d\",\n",
    "        ax = sns.heatmap(mat,annot=annot, yticklabels=axis_names, xticklabels=axis_names, cmap=cmap)\n",
    "    plt.title(title)\n",
    "    params = {\n",
    "        'legend.fontsize': font_s,\n",
    "        'xtick.labelsize': font_s,\n",
    "        'ytick.labelsize': font_s,\n",
    "        'text.usetex': True,\n",
    "    }\n",
    "    matplotlib.rcParams['mathtext.fontset'] = 'stix'\n",
    "    matplotlib.rcParams['font.family'] = 'STIXGeneral'\n",
    "    matplotlib.rcParams['mathtext.fontset'] = 'custom'\n",
    "    matplotlib.rcParams['mathtext.rm'] = 'Bitstream Vera Sans'\n",
    "    matplotlib.rcParams['mathtext.it'] = 'Bitstream Vera Sans:italic'\n",
    "    matplotlib.rcParams['mathtext.bf'] = 'Bitstream Vera Sans:bold'\n",
    "    plt.xlabel(xlab)\n",
    "    plt.ylabel(ylab)\n",
    "    plt.xticks(rotation=rx)\n",
    "    plt.yticks(rotation=ry)\n",
    "    plt.rcParams.update(params)\n",
    "    plt.tight_layout()\n",
    "    plt.savefig(filename + '.'+filetype)\n",
    "    plt.show()\n",
    "    plt.clf()"
   ]
  },
  {
   "cell_type": "code",
   "execution_count": 67,
   "metadata": {},
   "outputs": [
    {
     "data": {
      "image/png": "[encoded data removed]",
      "text/plain": [
       "<matplotlib.figure.Figure at 0x7fa5051f7c50>"
      ]
     },
     "metadata": {},
     "output_type": "display_data"
    },
    {
     "data": {
      "text/plain": [
       "<matplotlib.figure.Figure at 0x7fa499c69da0>"
      ]
     },
     "metadata": {},
     "output_type": "display_data"
    }
   ],
   "source": [
    "create_mat_plot(DIST[0:30,0:30], [x[0] for x in motifs[0:30]],'Divergence between co-occurrence patterns of motifs for Biofilm formation','Biofilm formation','Top 30 motifs','Top 30 motifs',annot=False, rx=90)"
   ]
  },
  {
   "cell_type": "markdown",
   "metadata": {},
   "source": [
    "## Adding annotations related to secondary structure and other properties"
   ]
  },
  {
   "cell_type": "code",
   "execution_count": 68,
   "metadata": {},
   "outputs": [],
   "source": [
    "from proteinseq_util.motif_properties import MotifProperties"
   ]
  },
  {
   "cell_type": "code",
   "execution_count": 71,
   "metadata": {},
   "outputs": [],
   "source": [
    "MotifPropVis=MotifProperties()"
   ]
  },
  {
   "cell_type": "code",
   "execution_count": 74,
   "metadata": {},
   "outputs": [
    {
     "data": {
      "text/plain": [
       "[('hhh', 0.25),\n",
       " ('nnn', 0.19),\n",
       " ('ttn', 0.19),\n",
       " ('eee', 0.12),\n",
       " ('htn', 0.08),\n",
       " ('hnn', 0.07),\n",
       " ('snn', 0.04),\n",
       " ('nee', 0.02),\n",
       " ('nsn', 0.02),\n",
       " ('tts', 0.02)]"
      ]
     },
     "execution_count": 74,
     "metadata": {},
     "output_type": "execute_result"
    }
   ],
   "source": [
    "# get most probable structure of this motif in the PDB sequences\n",
    "MotifPropVis.getMotifStructure('mgl')\n",
    "#H = alpha helix\n",
    "#B = residue in isolated beta-bridge\n",
    "#E = extended strand, participates in beta ladder\n",
    "#G = 3-helix (3/10 helix)\n",
    "#I = 5 helix (pi helix)\n",
    "#T = hydrogen bonded turn\n",
    "#S = bend\n",
    "#N = loop or other irregular structure"
   ]
  },
  {
   "cell_type": "code",
   "execution_count": 78,
   "metadata": {},
   "outputs": [
    {
     "name": "stderr",
     "output_type": "stream",
     "text": [
      "100%|██████████| 1/1 [00:00<00:00, 1147.87it/s]\n",
      "100%|██████████| 1/1 [00:00<00:00, 1959.96it/s]\n"
     ]
    }
   ],
   "source": [
    "sec_classes,prop=MotifPropVis.get_motifs_pss_biophys(['mgl'])"
   ]
  },
  {
   "cell_type": "code",
   "execution_count": 79,
   "metadata": {},
   "outputs": [
    {
     "data": {
      "text/plain": [
       "{'mgl': [-1.0114634864612668,\n",
       "  -0.28252406036752725,\n",
       "  -0.28258896805474465,\n",
       "  -0.970740175139044,\n",
       "  0.7751299216012043,\n",
       "  -0.4360941592403529]}"
      ]
     },
     "execution_count": 79,
     "metadata": {},
     "output_type": "execute_result"
    }
   ],
   "source": [
    "prop\n",
    "# The order is the normalized\n",
    "#['mean_molecular_weight',\n",
    "# 'mean_flexibility',\n",
    "# 'instability',\n",
    "# 'mean_surface_accessibility',\n",
    "# 'mean_kd_hydrophobicity',\n",
    "# 'mean_hydrophilicity']"
   ]
  },
  {
   "cell_type": "markdown",
   "metadata": {},
   "source": [
    "#### if you have ete3 installed you can get the tree visualization as well"
   ]
  },
  {
   "cell_type": "code",
   "execution_count": null,
   "metadata": {},
   "outputs": [],
   "source": [
    "from proteinseq_util.motif_tree_visualization import VisualizeTreeOfMotifs"
   ]
  },
  {
   "cell_type": "code",
   "execution_count": null,
   "metadata": {},
   "outputs": [],
   "source": [
    "VT=VisualizeTreeOfMotifs(tree,[x[0] for x in motifs])\n",
    "\n",
    "VT.create_circle(output_path+'/biofilm_prop.pdf', 'BioFilm tree of motifs', ignore_branch_length=True)"
   ]
  },
  {
   "cell_type": "markdown",
   "metadata": {},
   "source": [
    "<img src=\"biofilm_prop.pdf\">"
   ]
  },
  {
   "cell_type": "code",
   "execution_count": null,
   "metadata": {},
   "outputs": [],
   "source": []
  }
 ],
 "metadata": {
  "kernelspec": {
   "display_name": "Python 3.6",
   "language": "python",
   "name": "python_3.6"
  },
  "language_info": {
   "codemirror_mode": {
    "name": "ipython",
    "version": 3
   },
   "file_extension": ".py",
   "mimetype": "text/x-python",
   "name": "python",
   "nbconvert_exporter": "python",
   "pygments_lexer": "ipython3",
   "version": "3.6.5"
  }
 },
 "nbformat": 4,
 "nbformat_minor": 2
}
